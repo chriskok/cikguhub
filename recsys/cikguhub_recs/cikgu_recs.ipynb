{
 "cells": [
  {
   "cell_type": "code",
   "execution_count": null,
   "id": "fbe1d63c",
   "metadata": {},
   "outputs": [
    {
     "ename": "",
     "evalue": "",
     "output_type": "error",
     "traceback": [
      "\u001b[1;31mFailed to start the Kernel. \n",
      "\u001b[1;31mKernel cikgu (Python 3.9.16) is not usable. Check the Jupyter output tab for more information. \n",
      "\u001b[1;31mView Jupyter <a href='command:jupyter.viewOutput'>log</a> for further details."
     ]
    }
   ],
   "source": [
    "import pandas as pd\n",
    "import numpy as np\n",
    "import seaborn as sns\n",
    "from sklearn.cluster import KMeans\n",
    "import matplotlib.pyplot as plt\n",
    "\n",
    "sns.set_theme(style=\"darkgrid\")"
   ]
  },
  {
   "cell_type": "code",
   "execution_count": null,
   "id": "53375cd9",
   "metadata": {},
   "outputs": [
    {
     "ename": "",
     "evalue": "",
     "output_type": "error",
     "traceback": [
      "\u001b[1;31mFailed to start the Kernel. \n",
      "\u001b[1;31mKernel cikgu (Python 3.9.16) is not usable. Check the Jupyter output tab for more information. \n",
      "\u001b[1;31mView Jupyter <a href='command:jupyter.viewOutput'>log</a> for further details."
     ]
    }
   ],
   "source": [
    "toolkit = pd.read_csv(\"CikguHub_Marketing Planner_2023 - PBD Toolkit Responses.csv\")\n",
    "registraton = pd.read_csv(\"CikguHub_Marketing Planner_2023 - Registration Form.csv\")"
   ]
  },
  {
   "cell_type": "code",
   "execution_count": null,
   "id": "38f6dd3f",
   "metadata": {},
   "outputs": [
    {
     "ename": "",
     "evalue": "",
     "output_type": "error",
     "traceback": [
      "\u001b[1;31mFailed to start the Kernel. \n",
      "\u001b[1;31mKernel cikgu (Python 3.9.16) is not usable. Check the Jupyter output tab for more information. \n",
      "\u001b[1;31mView Jupyter <a href='command:jupyter.viewOutput'>log</a> for further details."
     ]
    }
   ],
   "source": [
    "# slim down the column names so its readable\n",
    "tool_users = pd.DataFrame({})\n",
    "tool_users['teaching_level'] = toolkit[['1. Anda mengajar di sekolah jenis? / Which school are you teaching in?']]\n",
    "tool_users['experience'] = toolkit[['2. Berapakah tahun anda menjadi pendidik? / How long have you been an educator?']]\n",
    "tool_users['role'] = toolkit[['3. Apakah jawatan anda di sekolah? / What is your role in school?']]\n",
    "tool_users['wanted_skills'] = toolkit[['4. Apakah kemahiran yang anda ingin bangunkan? / What are the skills you wish to develop?']]\n",
    "reg_users = pd.DataFrame({})\n",
    "reg_users['teaching_level'] = registraton[['1. Anda mengajar di sekolah jenis? / Which school are you teaching in?']]\n",
    "reg_users['experience'] = registraton[['2. Berapakah tahun anda menjadi pendidik? / How long have you been an educator?']]\n",
    "reg_users['role'] = registraton[['3. Apakah jawatan anda di sekolah? / What is your role in school?']]\n",
    "reg_users['wanted_skills'] = registraton[['4. Apakah kemahiran yang anda ingin bangunkan? / What are the skills you wish to develop?']]"
   ]
  },
  {
   "cell_type": "code",
   "execution_count": null,
   "id": "1ff0dfd1",
   "metadata": {},
   "outputs": [
    {
     "ename": "",
     "evalue": "",
     "output_type": "error",
     "traceback": [
      "\u001b[1;31mFailed to start the Kernel. \n",
      "\u001b[1;31mKernel cikgu (Python 3.9.16) is not usable. Check the Jupyter output tab for more information. \n",
      "\u001b[1;31mView Jupyter <a href='command:jupyter.viewOutput'>log</a> for further details."
     ]
    }
   ],
   "source": [
    "# ok let's encode the responses now so we can read them easier\n",
    "skills_code = {'KemahiranMengajar/TeachingSkills' : 'T', \n",
    "              'Bimbingan&Pementoran/Coaching&Mentoring': 'C',\n",
    "              'Kepimpinan/Leadership': 'L', \n",
    "              'KemahiranDigital/DigitalSkills(contoh:aplikasiMicrosoftWord/Excel/PowerPointdanGoogleDoc/Sheet/Slide)': 'D',\n",
    "              'KemahiranMultimedia/MultimediaSkills(contoh:pembangunanvideo)': 'M'}\n",
    "\n",
    "exp_code = {'Kurang daripada 1 tahun / Less than 1 year': 0,\n",
    "            '1 hingga 5 tahun / 1 to 5 years' : 1,\n",
    "            '6 hingga 10 tahun / 6 to 10 years': 2,\n",
    "           'Lebih daripada 10 tahun / More than 10 years': 3}\n",
    "\n",
    "role_code = {'GuruAkademikBiasa/AcademicTeacher': 'T', \n",
    "             'KetuaPanitia/PanelHead': 'P', \n",
    "             'Officer': 'O'}\n",
    "\n",
    "level_code = {'Other:': -1,\n",
    "              'Saya bukan seorang cikgu / I am not a teacher': 0,\n",
    "              'Sekolah Kebangsaan / National Primary School': 1,\n",
    "              'Sekolah Menengah Kebangsaan / National Secondary School': 2}"
   ]
  },
  {
   "cell_type": "code",
   "execution_count": null,
   "id": "5825e68f",
   "metadata": {},
   "outputs": [
    {
     "ename": "",
     "evalue": "",
     "output_type": "error",
     "traceback": [
      "\u001b[1;31mFailed to start the Kernel. \n",
      "\u001b[1;31mKernel cikgu (Python 3.9.16) is not usable. Check the Jupyter output tab for more information. \n",
      "\u001b[1;31mView Jupyter <a href='command:jupyter.viewOutput'>log</a> for further details."
     ]
    }
   ],
   "source": [
    "def code_responses(df):\n",
    "\n",
    "    coded_exp = []\n",
    "    coded_skills = []\n",
    "    coded_roles = []\n",
    "    coded_level = []\n",
    "\n",
    "    for i, col in df.iterrows(): # read through every row in df\n",
    "\n",
    "        # grab column data for the row\n",
    "        lvl = col['teaching_level']\n",
    "        exp = col['experience']\n",
    "        skills = col['wanted_skills'].split(',')\n",
    "        roles = str(col['role']).split(',')\n",
    "        \n",
    "        coded_level.append(level_code[lvl]) # pass through the school level they teach\n",
    "\n",
    "        if exp in exp_code.keys(): # this if/else handles other/nan input\n",
    "            coded_exp.append(exp_code[exp])\n",
    "        else:\n",
    "            coded_exp.append(exp)\n",
    "\n",
    "        for j in range(len(skills)): # look at each skill selected\n",
    "            s = skills[j].replace(' ', '')\n",
    "            if s in skills_code.keys():\n",
    "                skills[j] = s.replace(s, skills_code[s])\n",
    "            else:\n",
    "                skills[j] = '*' # for now mark free response with star\n",
    "        coded_skills.append(skills)\n",
    "\n",
    "        for j in range(len(roles)): # look at each role selected\n",
    "            r = roles[j].replace(' ', '')\n",
    "            if r in role_code.keys():\n",
    "                roles[j] = r.replace(r, role_code[r])\n",
    "            else:\n",
    "                roles[j] = '*' # for now mark free response with star\n",
    "        coded_roles.append(roles)\n",
    "        \n",
    "    return coded_exp, coded_skills, coded_roles, coded_level\n",
    "\n",
    "coded_exp1, coded_skills1, coded_roles1, coded_level1 = code_responses(tool_users)\n",
    "coded_exp2, coded_skills2, coded_roles2, coded_level2 = code_responses(reg_users)"
   ]
  },
  {
   "cell_type": "code",
   "execution_count": null,
   "id": "bd2f8220",
   "metadata": {},
   "outputs": [
    {
     "ename": "",
     "evalue": "",
     "output_type": "error",
     "traceback": [
      "\u001b[1;31mFailed to start the Kernel. \n",
      "\u001b[1;31mKernel cikgu (Python 3.9.16) is not usable. Check the Jupyter output tab for more information. \n",
      "\u001b[1;31mView Jupyter <a href='command:jupyter.viewOutput'>log</a> for further details."
     ]
    }
   ],
   "source": [
    "coded_level1"
   ]
  },
  {
   "cell_type": "code",
   "execution_count": null,
   "id": "417b97e9",
   "metadata": {},
   "outputs": [
    {
     "ename": "",
     "evalue": "",
     "output_type": "error",
     "traceback": [
      "\u001b[1;31mFailed to start the Kernel. \n",
      "\u001b[1;31mKernel cikgu (Python 3.9.16) is not usable. Check the Jupyter output tab for more information. \n",
      "\u001b[1;31mView Jupyter <a href='command:jupyter.viewOutput'>log</a> for further details."
     ]
    }
   ],
   "source": [
    "user_model = pd.DataFrame({})\n",
    "user_model['experience'] = coded_exp1 + coded_exp2\n",
    "user_model['wanted_skills'] = coded_skills1 + coded_skills2\n",
    "user_model['roles'] = coded_roles1 + coded_roles2\n",
    "user_model['teaching_level'] = coded_level1 + coded_level2\n",
    "\n",
    "user_model.head()"
   ]
  },
  {
   "cell_type": "code",
   "execution_count": null,
   "id": "e67cee17",
   "metadata": {},
   "outputs": [
    {
     "ename": "",
     "evalue": "",
     "output_type": "error",
     "traceback": [
      "\u001b[1;31mFailed to start the Kernel. \n",
      "\u001b[1;31mKernel cikgu (Python 3.9.16) is not usable. Check the Jupyter output tab for more information. \n",
      "\u001b[1;31mView Jupyter <a href='command:jupyter.viewOutput'>log</a> for further details."
     ]
    }
   ],
   "source": [
    "# first step is to one hot encode data since several columns are categorical\n",
    "one_hot_um = pd.DataFrame({})\n",
    "one_hot_um['experience'] = user_model['experience']\n",
    "one_hot_um['teaching_level'] = user_model['teaching_level']\n",
    "one_hot_um['T'] = [1 if 'T' in i else 0 for i in user_model['wanted_skills']]\n",
    "one_hot_um['C'] = [1 if 'C' in i else 0 for i in user_model['wanted_skills']]\n",
    "one_hot_um['L'] = [1 if 'L' in i else 0 for i in user_model['wanted_skills']]\n",
    "one_hot_um['D'] = [1 if 'D' in i else 0 for i in user_model['wanted_skills']]\n",
    "one_hot_um['M'] = [1 if 'M' in i else 0 for i in user_model['wanted_skills']]\n",
    "one_hot_um['*'] = [1 if '*' in i else 0 for i in user_model['wanted_skills']]\n",
    "one_hot_um['roles_T'] = [1 if 'T' in i else 0 for i in user_model['roles']]\n",
    "one_hot_um['roles_P'] = [1 if 'P' in i else 0 for i in user_model['roles']]\n",
    "one_hot_um['roles_O'] = [1 if 'O' in i else 0 for i in user_model['roles']]\n",
    "one_hot_um['roles_*'] = [1 if '*' in i else 0 for i in user_model['roles']]"
   ]
  },
  {
   "cell_type": "code",
   "execution_count": null,
   "id": "816db986",
   "metadata": {},
   "outputs": [
    {
     "ename": "",
     "evalue": "",
     "output_type": "error",
     "traceback": [
      "\u001b[1;31mFailed to start the Kernel. \n",
      "\u001b[1;31mKernel cikgu (Python 3.9.16) is not usable. Check the Jupyter output tab for more information. \n",
      "\u001b[1;31mView Jupyter <a href='command:jupyter.viewOutput'>log</a> for further details."
     ]
    }
   ],
   "source": [
    "one_hot_um.head()"
   ]
  },
  {
   "cell_type": "markdown",
   "id": "d53eee08",
   "metadata": {},
   "source": [
    "Below are my notes on how to connect Django stuff to my rec functions. Also my rec functions are below "
   ]
  },
  {
   "cell_type": "code",
   "execution_count": null,
   "id": "f1fe5504",
   "metadata": {},
   "outputs": [
    {
     "ename": "",
     "evalue": "",
     "output_type": "error",
     "traceback": [
      "\u001b[1;31mFailed to start the Kernel. \n",
      "\u001b[1;31mKernel cikgu (Python 3.9.16) is not usable. Check the Jupyter output tab for more information. \n",
      "\u001b[1;31mView Jupyter <a href='command:jupyter.viewOutput'>log</a> for further details."
     ]
    }
   ],
   "source": [
    "# user_interests = LearnerModel.skill_interests"
   ]
  },
  {
   "cell_type": "code",
   "execution_count": null,
   "id": "ce84f7af",
   "metadata": {},
   "outputs": [
    {
     "ename": "",
     "evalue": "",
     "output_type": "error",
     "traceback": [
      "\u001b[1;31mFailed to start the Kernel. \n",
      "\u001b[1;31mKernel cikgu (Python 3.9.16) is not usable. Check the Jupyter output tab for more information. \n",
      "\u001b[1;31mView Jupyter <a href='command:jupyter.viewOutput'>log</a> for further details."
     ]
    }
   ],
   "source": [
    "# user_interests = LearnerModel.skill_interests\n",
    "# might make more sense to store user interests as a list or dict than a text field\n",
    "# but this function will transform text from response form into a list of letters\n",
    "def code_user_interests(user_interests):\n",
    "\n",
    "    skills_code = {'KemahiranMengajar/TeachingSkills' : 'T', \n",
    "                  'Bimbingan&Pementoran/Coaching&Mentoring': 'C',\n",
    "                  'Kepimpinan/Leadership': 'L', \n",
    "                  'KemahiranDigital/DigitalSkills(contoh:aplikasiMicrosoftWord/Excel/PowerPointdanGoogleDoc/Sheet/Slide)': 'D',\n",
    "                  'KemahiranMultimedia/MultimediaSkills(contoh:pembangunanvideo)': 'M'}\n",
    "\n",
    "    skills = user_interests.split(',')\n",
    "    coded_skills = []\n",
    "    for j in range(len(skills)): # look at each skill selected\n",
    "        s = skills[j].replace(' ', '')\n",
    "        if s in skills_code.keys():\n",
    "            skills[j] = s.replace(s, skills_code[s])\n",
    "        else:\n",
    "            skills[j] = '*' # for now mark free response with star\n",
    "        coded_skills.append(skills)\n",
    "    return coded_skills\n",
    "        \n",
    "### I need some way to see which modules a user has not completed \n",
    "###### between ModuleComplete and RecommendationQueue, is this inf. already captured?\n",
    "###### else, let's add a new var to LearnerModel or something\n",
    "\n",
    "### I need a way to see how many video tracks are belong to each interest category\n",
    "\n",
    "### I need some way of ranking interest categories, this should be ultimately defined by experts\n",
    "\n",
    "### Variables I want to go into user engagement:\n",
    "###### time spent on modules in interest cat., no. modules complete in interest cat.\n",
    "###### avg feedback rating, no. questions answered, avg. question response grade\n",
    "\n"
   ]
  },
  {
   "cell_type": "code",
   "execution_count": null,
   "id": "131ddcae",
   "metadata": {},
   "outputs": [
    {
     "ename": "",
     "evalue": "",
     "output_type": "error",
     "traceback": [
      "\u001b[1;31mFailed to start the Kernel. \n",
      "\u001b[1;31mKernel cikgu (Python 3.9.16) is not usable. Check the Jupyter output tab for more information. \n",
      "\u001b[1;31mView Jupyter <a href='command:jupyter.viewOutput'>log</a> for further details."
     ]
    }
   ],
   "source": [
    "def create_user_df(max_track_num, ranking, user_open_tracks, user_interests, user_engagement, cluster_engagement):\n",
    "    \n",
    "    df = pd.DataFrame({'Open Tracks': user_open_tracks, 'Max': max_track_num, 'Ranking': ranking, \n",
    "                       'Cluster': cluster_engagement, 'User Interest': user_interests, \n",
    "                       'User Engagement': user_engagement})\n",
    "    df['Avaliable'] = [1 if row['Open Tracks'] < row['Max'] else 0 for i, row in df.iterrows()]\n",
    "    \n",
    "    return df\n",
    "\n",
    "def recommend_videos(df):\n",
    "    \n",
    "    feature_order = ['Open Tracks', 'User Engagement', 'Cluster', 'Ranking'] # order in which we consider features\n",
    "    \n",
    "    avaliable_tracks = df[df['Avaliable'] ==1]\n",
    "    user_chosen_recs = avaliable_tracks[df['User Interest'] ==1]\n",
    "    sorted_recs = list(user_chosen_recs.sort_values(feature_order, ascending=False).index)\n",
    "    \n",
    "    if len(sorted_recs) == 2:\n",
    "        return sorted_recs\n",
    "    elif len(user_chosen_recs) > 2:\n",
    "        return sorted_recs[0:2]\n",
    "    else:\n",
    "        n = 2 - len(sorted_recs)\n",
    "        other_recs = avaliable_tracks[df['User Interest'] == 0]\n",
    "        other_recs = list(other_recs.sort_values(feature_order, ascending=False).index)\n",
    "        return sorted_recs + other_recs[0:n]"
   ]
  },
  {
   "cell_type": "code",
   "execution_count": null,
   "id": "26a511e9",
   "metadata": {},
   "outputs": [
    {
     "ename": "",
     "evalue": "",
     "output_type": "error",
     "traceback": [
      "\u001b[1;31mFailed to start the Kernel. \n",
      "\u001b[1;31mKernel cikgu (Python 3.9.16) is not usable. Check the Jupyter output tab for more information. \n",
      "\u001b[1;31mView Jupyter <a href='command:jupyter.viewOutput'>log</a> for further details."
     ]
    }
   ],
   "source": [
    "# sample system data\n",
    "max_track_num = {'T':5, 'C':2, 'L':3, 'D':3, 'M':2} # number of tracks for each interest cat.\n",
    "ranking = one_hot_um.mean()[2:7] # can replace this ranking with any ranking we want\n",
    "\n",
    "# sample user data\n",
    "user_open_tracks = {'T':2, 'C':1, 'L':2, 'D':0, 'M':0}\n",
    "user_interests = one_hot_um.iloc[1][2:7] # these are input by users and can be changed at any time\n",
    "user_engagement = {'T':0.4, 'C':0.7, 'L':0.2, 'D':0.6, 'M':0.4} # we need to calculate this metric\n",
    "cluster_engagement = {'T':0.8, 'C':0.2, 'L':0.4, 'D':0.95, 'M':0.6} # we need to calculate this metric\n",
    "\n",
    "df = create_user_df(max_track_num, ranking, user_open_tracks, user_interests, user_engagement, cluster_engagement)\n",
    "df"
   ]
  },
  {
   "cell_type": "code",
   "execution_count": null,
   "id": "4e2e8e11",
   "metadata": {},
   "outputs": [
    {
     "ename": "",
     "evalue": "",
     "output_type": "error",
     "traceback": [
      "\u001b[1;31mFailed to start the Kernel. \n",
      "\u001b[1;31mKernel cikgu (Python 3.9.16) is not usable. Check the Jupyter output tab for more information. \n",
      "\u001b[1;31mView Jupyter <a href='command:jupyter.viewOutput'>log</a> for further details."
     ]
    }
   ],
   "source": [
    "recommend_videos(df)"
   ]
  },
  {
   "cell_type": "markdown",
   "id": "816765ae",
   "metadata": {},
   "source": [
    "## Interactions\n",
    "\n",
    "### User\n",
    "\n",
    "    - set interests (select categories of interest out of 5)\n",
    "    - engagement with content contributes towards user engagement metric for a theme\n",
    "\n",
    "### Expert\n",
    "\n",
    "    - sets baseline ranking of which categories should be presented first\n",
    "    - can individually edit reccommended tracks for users or an entire cluster\n",
    "    - chooses clustering algorithm"
   ]
  },
  {
   "cell_type": "code",
   "execution_count": null,
   "id": "b6b2ac4f",
   "metadata": {},
   "outputs": [
    {
     "ename": "",
     "evalue": "",
     "output_type": "error",
     "traceback": [
      "\u001b[1;31mFailed to start the Kernel. \n",
      "\u001b[1;31mKernel cikgu (Python 3.9.16) is not usable. Check the Jupyter output tab for more information. \n",
      "\u001b[1;31mView Jupyter <a href='command:jupyter.viewOutput'>log</a> for further details."
     ]
    }
   ],
   "source": [
    "def clustering(X, k):\n",
    "    kmeans = KMeans(n_clusters=k).fit(X)\n",
    "    labels = kmeans.labels_\n",
    "    return labels\n",
    "\n",
    "def illustrate_cluster(labels, one_hot_df):\n",
    "    clustered_groups = one_hot_df.copy()\n",
    "    clustered_groups['cluster'] = labels\n",
    "    \n",
    "    cluster_means = clustered_groups.groupby('cluster').mean() # get cluster means\n",
    "    cluster_counts = clustered_groups.groupby('cluster').count() # get cluster counts\n",
    "    consider = cluster_means[['experience', 'teaching_level', 'roles_T']] # list of features we could highlight\n",
    "    # we want to highlight the features for each cluster that are furthest from the mean\n",
    "    highlight = consider.columns[np.argsort(np.array(abs((consider - np.mean(consider, axis=0))\\\n",
    "                                                         /np.mean(consider, axis=0))))[:, -2:]]\n",
    "    cluster_msgs = {}\n",
    "    for i in range(len(cluster_means)):\n",
    "        msg = f\"{cluster_counts.iloc[i]['experience']} people, \"\n",
    "        \n",
    "        for h in highlight[i]:\n",
    "            value = cluster_means.iloc[i][h]\n",
    "            if 'roles_T' in h: msg = msg + f'{round(100*value)}% are teachers, '\n",
    "            elif 'experience' in h: msg = msg + f'average experience is {round(value, 2)} years, '\n",
    "            elif 'teaching_level' in h: msg = msg + f'Average school level is {round(value)}, '\n",
    "            else: msg = msg + str(h) +  str(cluster_means.iloc[i][h])\n",
    "        \n",
    "        cluster_msgs[f'Cluster {i}'] = msg\n",
    "    return cluster_msgs\n",
    "    \n",
    "X = np.array(one_hot_um)\n",
    "labels = clustering(X, 4)\n",
    "cluster_msgs = illustrate_cluster(labels, one_hot_um)"
   ]
  }
 ],
 "metadata": {
  "kernelspec": {
   "display_name": "Python 3 (ipykernel)",
   "language": "python",
   "name": "python3"
  },
  "language_info": {
   "codemirror_mode": {
    "name": "ipython",
    "version": 3
   },
   "file_extension": ".py",
   "mimetype": "text/x-python",
   "name": "python",
   "nbconvert_exporter": "python",
   "pygments_lexer": "ipython3",
   "version": "3.9.16"
  }
 },
 "nbformat": 4,
 "nbformat_minor": 5
}
